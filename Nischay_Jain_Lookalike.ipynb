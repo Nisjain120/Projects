{
  "nbformat": 4,
  "nbformat_minor": 0,
  "metadata": {
    "colab": {
      "provenance": [],
      "authorship_tag": "ABX9TyN8B04yIzUzmxv1Gwqip1bL",
      "include_colab_link": true
    },
    "kernelspec": {
      "name": "python3",
      "display_name": "Python 3"
    },
    "language_info": {
      "name": "python"
    }
  },
  "cells": [
    {
      "cell_type": "markdown",
      "metadata": {
        "id": "view-in-github",
        "colab_type": "text"
      },
      "source": [
        "<a href=\"https://colab.research.google.com/github/Nisjain120/Projects/blob/main/Nischay_Jain_Lookalike.ipynb\" target=\"_parent\"><img src=\"https://colab.research.google.com/assets/colab-badge.svg\" alt=\"Open In Colab\"/></a>"
      ]
    },
    {
      "cell_type": "code",
      "execution_count": 5,
      "metadata": {
        "colab": {
          "base_uri": "https://localhost:8080/"
        },
        "id": "6f26hMPquXqX",
        "outputId": "e7891a4b-c193-44ae-94a5-49d461955edf"
      },
      "outputs": [
        {
          "output_type": "stream",
          "name": "stdout",
          "text": [
            "  CustomerID LookalikeCustomerID  SimilarityScore\n",
            "0      C0001               C0069         0.933006\n",
            "1      C0001               C0026         0.904200\n",
            "2      C0001               C0157         0.855824\n",
            "3      C0002               C0178         0.956485\n",
            "4      C0002               C0133         0.949490\n"
          ]
        }
      ],
      "source": [
        "import pandas as pd\n",
        "from sklearn.metrics.pairwise import cosine_similarity\n",
        "from sklearn.preprocessing import StandardScaler\n",
        "from collections import defaultdict\n",
        "\n",
        "customers_df = pd.read_csv('/content/Customers.csv')\n",
        "products_df = pd.read_csv('/content/Products.csv')\n",
        "transactions_df = pd.read_csv('/content/Transactions.csv')\n",
        "\n",
        "customer_transactions = transactions_df.merge(customers_df[['CustomerID', 'Region', 'CustomerName']], on='CustomerID', how='left')\n",
        "customer_transactions = customer_transactions.merge(products_df[['ProductID', 'Category']], on='ProductID', how='left')\n",
        "\n",
        "customer_summary = customer_transactions.groupby('CustomerID').agg(\n",
        "    total_spend=('TotalValue', 'sum'),\n",
        "    num_transactions=('TransactionID', 'nunique'),\n",
        "    regions=('Region', 'first'),\n",
        "    customer_name=('CustomerName', 'first')\n",
        ").reset_index()\n",
        "\n",
        "category_summary = customer_transactions.groupby(['CustomerID', 'Category']).agg(\n",
        "    total_quantity=('Quantity', 'sum')\n",
        ").unstack().fillna(0)\n",
        "\n",
        "category_summary.columns = [col[1] for col in category_summary.columns]\n",
        "\n",
        "customer_profile = customer_summary.merge(category_summary, on='CustomerID', how='left')\n",
        "\n",
        "scaler = StandardScaler()\n",
        "scaled_features = scaler.fit_transform(customer_profile.drop(['CustomerID', 'regions', 'customer_name'], axis=1))\n",
        "\n",
        "similarity_matrix = cosine_similarity(scaled_features)\n",
        "\n",
        "lookalikes = defaultdict(list)\n",
        "\n",
        "customer_ids_range = [f'C{i:04}' for i in range(1, 21)]\n",
        "\n",
        "for idx, customer_id in enumerate(customer_profile['CustomerID']):\n",
        "    if customer_id not in customer_ids_range:\n",
        "        continue\n",
        "\n",
        "    sim_scores = similarity_matrix[idx]\n",
        "\n",
        "    sorted_similarities = sorted(enumerate(sim_scores), key=lambda x: x[1], reverse=True)\n",
        "\n",
        "    top_3 = [(customer_profile['CustomerID'][i], score) for i, score in sorted_similarities[1:4]]\n",
        "    lookalikes[customer_id] = top_3\n",
        "\n",
        "lookalike_list = []\n",
        "for customer_id, similar_customers in lookalikes.items():\n",
        "    for similar_customer, score in similar_customers:\n",
        "        lookalike_list.append([customer_id, similar_customer, score])\n",
        "\n",
        "lookalike_df = pd.DataFrame(lookalike_list, columns=['CustomerID', 'LookalikeCustomerID', 'SimilarityScore'])\n",
        "lookalike_df.to_csv('Lookalike.csv', index=False)\n",
        "\n",
        "print(lookalike_df.head())\n"
      ]
    }
  ]
}